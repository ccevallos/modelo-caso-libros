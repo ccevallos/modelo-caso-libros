{
 "cells": [
  {
   "cell_type": "markdown",
   "metadata": {},
   "source": [
    "# Modelo modeloIA1"
   ]
  },
  {
   "cell_type": "markdown",
   "metadata": {},
   "source": [
    "El presente modelo ha sido generado por la herramienta IACT para el caso: caso1"
   ]
  },
  {
   "cell_type": "markdown",
   "metadata": {},
   "source": [
    "## 1. Carga de librerias y funciones utilitarias\n",
    "Se importan las librerías necesarias"
   ]
  },
  {
   "cell_type": "code",
   "execution_count": 1,
   "metadata": {},
   "outputs": [],
   "source": [
    "import pandas as pd\n",
    "import matplotlib.pyplot as pl\n",
    "import numpy as np\n",
    "from sklearn.model_selection import train_test_split\n",
    "from sklearn import metrics as skm\n",
    "from sklearn.ensemble import RandomForestRegressor\n",
    "from sklearn.linear_model import LinearRegression\n",
    "from sklearn.datasets import make_regression\n",
    "from sklearn.svm import SVR"
   ]
  },
  {
   "cell_type": "markdown",
   "metadata": {},
   "source": [
    "Imports para red neuronal"
   ]
  },
  {
   "cell_type": "code",
   "execution_count": 2,
   "metadata": {},
   "outputs": [],
   "source": [
    "from keras.models import Sequential\n",
    "from keras.layers import Dense, Dropout\n",
    "from keras.optimizers import SGD, Adam\n",
    "from keras import regularizers"
   ]
  },
  {
   "cell_type": "markdown",
   "metadata": {},
   "source": [
    "Funciones utilitarias"
   ]
  },
  {
   "cell_type": "code",
   "execution_count": 3,
   "metadata": {},
   "outputs": [],
   "source": [
    "def dibuja_linea (datos, titulo, etiqueta_x='medida_x', etiqueta_y='medida_y', leyendas=None):\n",
    "    '''\n",
    "       Función que dibuja una serie de datos\n",
    "       Parámetros:\n",
    "         - datos: matriz que contiene los vectores a graficar\n",
    "         - titulo: titulo a presentar en el gráfico\n",
    "         - etiqueta_x: nombre de la etiqueta en el eje x\n",
    "         - etiqueta_y: nombre de la etiqueta en el eje y\n",
    "         - leyendas: lista de nombres para leyendas\n",
    "    '''\n",
    "    X=np.linspace(1, len(datos[0]), len(datos[0]), endpoint=True)\n",
    "    \n",
    "    fig, ax = pl.subplots()\n",
    "    \n",
    "    for cont in range(0,len(datos)):\n",
    "        if leyendas is not None:\n",
    "            ax.plot(X, datos[cont],label=leyendas[cont])\n",
    "        else:\n",
    "            ax.plot(X, datos[cont])\n",
    "    ax.set_title(titulo)\n",
    "    ax.set(xlabel=etiqueta_x, ylabel=etiqueta_y)\n",
    "    \n",
    "        \n",
    "    if leyendas is not None:\n",
    "        ax.legend()\n",
    "    pl.show()\n",
    "\n",
    "def evalua_regresion(y_test, y_pred, imprimir=False):\n",
    "    '''\n",
    "        Función que calcula las métricas de calidad mse, rmse y mae\n",
    "        Parámetros:\n",
    "          - y_test: datos reales esperados\n",
    "          - y_pred: datos predichos\n",
    "          - imprimir: bandera que indica si imprime o no los valores calculados\n",
    "    '''\n",
    "    mse = skm.mean_squared_error(y_test, y_pred)\n",
    "    mae = skm.mean_absolute_error(y_test, y_pred)\n",
    "    rmse = mse ** 0.5\n",
    "    if imprimir:\n",
    "        print('Error cuadrado medio',mse)\n",
    "        print('Raíz del error cuadrado medio',rmse)\n",
    "        print('Error absoluto medio',mae)\n",
    "    return mse, rmse, mae\n",
    "\n",
    "def evalua (y_test, resultados, algoritmos):\n",
    "    '''\n",
    "        Función que calcula las métricas de calidad mse, rmse y mae de\n",
    "        varios algoritmos. Arma un DataFrame pandas que compara los\n",
    "        resultados.\n",
    "        Parámetros:\n",
    "          - y_test: datos reales esperados\n",
    "          - resultados: matriz que contiene los vectores de resultados\n",
    "                        predichos por cada algoritmo\n",
    "          - algoritmos: nombres de los algoritmos evaluados\n",
    "    '''\n",
    "    df = pd.DataFrame({'metrica':['Error Cuadratico Medio (MSE)','Raiz MSE','Error Absoluto Medio (MAE)']})\n",
    "    for algoritmo,y_pred in zip(algoritmos,resultados):\n",
    "        df[algoritmo]=evalua_regresion(y_test, y_pred)\n",
    "    \n",
    "    df=df.set_index('metrica')\n",
    "    return df\n",
    "\n",
    "def evolucion_random_forest(profundidad, n_estimadores, X_train, y_train, X_test, y_test):\n",
    "    '''\n",
    "        Función que presenta gráficamente la evolución del mse para\n",
    "        Fandom Forest en función de su profundidad.\n",
    "        Parámetros:\n",
    "          - profundidad:   profundidad máxima de Random Forest.\n",
    "          - n_estimadores: número de arboles a utilizar\n",
    "          - X_train:       datos X de entrenamiento.\n",
    "          - y_train:       datos y de entrenamiento.\n",
    "          - X_test:        datos X de prueba.\n",
    "          - y_test:        datos y de prueba.\n",
    "    '''\n",
    "    arreglo_mse=np.zeros(profundidad)\n",
    "\n",
    "    for i in range (profundidad):\n",
    "        arbol = RandomForestRegressor(max_depth=i+1,random_state=1234,n_estimators=n_estimadores)\n",
    "        arbol = arbol.fit(X_train,y_train)\n",
    "        y_pred = arbol.predict(X_test)\n",
    "        arreglo_mse[i] = skm.mean_squared_error(y_test, y_pred)\n",
    "    dibuja_linea([arreglo_mse], 'Evolucion RandomForest en profundidad', etiqueta_x='profundidad', etiqueta_y='Error MSE',)\n",
    "\n",
    "def normalizar_por_mayor(datos):\n",
    "    '''\n",
    "       Función que normaliza los valores de una lista dividiéndolos para el valor mayor\n",
    "       Parámetros:\n",
    "         - datos: lista de valores a los que se va a normalizar\n",
    "    '''\n",
    "    for col in datos.columns:\n",
    "        max_val=round(datos[col].max()+0.05,1)\n",
    "        datos[col]=datos[col]/max_val\n",
    "    print('Se normalizó la columna',col,'dividiendo para',max_val)"
   ]
  },
  {
   "cell_type": "markdown",
   "metadata": {},
   "source": [
    "## 2. Preparación de datos"
   ]
  },
  {
   "cell_type": "markdown",
   "metadata": {},
   "source": [
    "Carga de datos desde los archivos cvs"
   ]
  },
  {
   "cell_type": "code",
   "execution_count": 4,
   "metadata": {},
   "outputs": [],
   "source": [
    "demanda_data = pd.read_csv('../demanda/demanda.csv')\n",
    "monitoreo_memoria_data = pd.read_csv('../capacidad/monitoreo_memoria.csv')"
   ]
  },
  {
   "cell_type": "markdown",
   "metadata": {},
   "source": [
    "## 3. Analisis de datos originales"
   ]
  },
  {
   "cell_type": "code",
   "execution_count": 5,
   "metadata": {},
   "outputs": [
    {
     "data": {
      "text/html": [
       "<div>\n",
       "<style scoped>\n",
       "    .dataframe tbody tr th:only-of-type {\n",
       "        vertical-align: middle;\n",
       "    }\n",
       "\n",
       "    .dataframe tbody tr th {\n",
       "        vertical-align: top;\n",
       "    }\n",
       "\n",
       "    .dataframe thead th {\n",
       "        text-align: right;\n",
       "    }\n",
       "</style>\n",
       "<table border=\"1\" class=\"dataframe\">\n",
       "  <thead>\n",
       "    <tr style=\"text-align: right;\">\n",
       "      <th></th>\n",
       "      <th>Fecha</th>\n",
       "      <th>nro_registro</th>\n",
       "      <th>nro_actualiza</th>\n",
       "      <th>nro_consulta</th>\n",
       "      <th>nro_elimina</th>\n",
       "    </tr>\n",
       "  </thead>\n",
       "  <tbody>\n",
       "    <tr>\n",
       "      <th>0</th>\n",
       "      <td>2020-08-02 23:39:44</td>\n",
       "      <td>21</td>\n",
       "      <td>0</td>\n",
       "      <td>0</td>\n",
       "      <td>0</td>\n",
       "    </tr>\n",
       "    <tr>\n",
       "      <th>1</th>\n",
       "      <td>2020-08-02 23:39:45</td>\n",
       "      <td>4</td>\n",
       "      <td>0</td>\n",
       "      <td>0</td>\n",
       "      <td>0</td>\n",
       "    </tr>\n",
       "    <tr>\n",
       "      <th>2</th>\n",
       "      <td>2020-08-02 23:40:13</td>\n",
       "      <td>5</td>\n",
       "      <td>2</td>\n",
       "      <td>0</td>\n",
       "      <td>0</td>\n",
       "    </tr>\n",
       "    <tr>\n",
       "      <th>3</th>\n",
       "      <td>2020-08-02 23:40:14</td>\n",
       "      <td>0</td>\n",
       "      <td>3</td>\n",
       "      <td>3</td>\n",
       "      <td>3</td>\n",
       "    </tr>\n",
       "    <tr>\n",
       "      <th>4</th>\n",
       "      <td>2020-08-02 23:40:15</td>\n",
       "      <td>5</td>\n",
       "      <td>4</td>\n",
       "      <td>7</td>\n",
       "      <td>7</td>\n",
       "    </tr>\n",
       "  </tbody>\n",
       "</table>\n",
       "</div>"
      ],
      "text/plain": [
       "                 Fecha  nro_registro  nro_actualiza  nro_consulta  nro_elimina\n",
       "0  2020-08-02 23:39:44            21              0             0            0\n",
       "1  2020-08-02 23:39:45             4              0             0            0\n",
       "2  2020-08-02 23:40:13             5              2             0            0\n",
       "3  2020-08-02 23:40:14             0              3             3            3\n",
       "4  2020-08-02 23:40:15             5              4             7            7"
      ]
     },
     "execution_count": 5,
     "metadata": {},
     "output_type": "execute_result"
    }
   ],
   "source": [
    "demanda_data.head(5)"
   ]
  },
  {
   "cell_type": "code",
   "execution_count": 6,
   "metadata": {},
   "outputs": [
    {
     "data": {
      "text/html": [
       "<div>\n",
       "<style scoped>\n",
       "    .dataframe tbody tr th:only-of-type {\n",
       "        vertical-align: middle;\n",
       "    }\n",
       "\n",
       "    .dataframe tbody tr th {\n",
       "        vertical-align: top;\n",
       "    }\n",
       "\n",
       "    .dataframe thead th {\n",
       "        text-align: right;\n",
       "    }\n",
       "</style>\n",
       "<table border=\"1\" class=\"dataframe\">\n",
       "  <thead>\n",
       "    <tr style=\"text-align: right;\">\n",
       "      <th></th>\n",
       "      <th>nro_registro</th>\n",
       "      <th>nro_actualiza</th>\n",
       "      <th>nro_consulta</th>\n",
       "      <th>nro_elimina</th>\n",
       "    </tr>\n",
       "  </thead>\n",
       "  <tbody>\n",
       "    <tr>\n",
       "      <th>count</th>\n",
       "      <td>16447.000000</td>\n",
       "      <td>16447.000000</td>\n",
       "      <td>16447.000000</td>\n",
       "      <td>16447.000000</td>\n",
       "    </tr>\n",
       "    <tr>\n",
       "      <th>mean</th>\n",
       "      <td>3.525871</td>\n",
       "      <td>1.061105</td>\n",
       "      <td>1.293427</td>\n",
       "      <td>0.628686</td>\n",
       "    </tr>\n",
       "    <tr>\n",
       "      <th>std</th>\n",
       "      <td>3.982013</td>\n",
       "      <td>1.590047</td>\n",
       "      <td>1.401124</td>\n",
       "      <td>1.242009</td>\n",
       "    </tr>\n",
       "    <tr>\n",
       "      <th>min</th>\n",
       "      <td>0.000000</td>\n",
       "      <td>0.000000</td>\n",
       "      <td>0.000000</td>\n",
       "      <td>0.000000</td>\n",
       "    </tr>\n",
       "    <tr>\n",
       "      <th>25%</th>\n",
       "      <td>1.000000</td>\n",
       "      <td>0.000000</td>\n",
       "      <td>0.000000</td>\n",
       "      <td>0.000000</td>\n",
       "    </tr>\n",
       "    <tr>\n",
       "      <th>50%</th>\n",
       "      <td>2.000000</td>\n",
       "      <td>0.000000</td>\n",
       "      <td>1.000000</td>\n",
       "      <td>0.000000</td>\n",
       "    </tr>\n",
       "    <tr>\n",
       "      <th>75%</th>\n",
       "      <td>5.000000</td>\n",
       "      <td>2.000000</td>\n",
       "      <td>2.000000</td>\n",
       "      <td>1.000000</td>\n",
       "    </tr>\n",
       "    <tr>\n",
       "      <th>max</th>\n",
       "      <td>47.000000</td>\n",
       "      <td>18.000000</td>\n",
       "      <td>10.000000</td>\n",
       "      <td>12.000000</td>\n",
       "    </tr>\n",
       "  </tbody>\n",
       "</table>\n",
       "</div>"
      ],
      "text/plain": [
       "       nro_registro  nro_actualiza  nro_consulta   nro_elimina\n",
       "count  16447.000000   16447.000000  16447.000000  16447.000000\n",
       "mean       3.525871       1.061105      1.293427      0.628686\n",
       "std        3.982013       1.590047      1.401124      1.242009\n",
       "min        0.000000       0.000000      0.000000      0.000000\n",
       "25%        1.000000       0.000000      0.000000      0.000000\n",
       "50%        2.000000       0.000000      1.000000      0.000000\n",
       "75%        5.000000       2.000000      2.000000      1.000000\n",
       "max       47.000000      18.000000     10.000000     12.000000"
      ]
     },
     "execution_count": 6,
     "metadata": {},
     "output_type": "execute_result"
    }
   ],
   "source": [
    "demanda_data.describe()"
   ]
  },
  {
   "cell_type": "code",
   "execution_count": 7,
   "metadata": {},
   "outputs": [
    {
     "data": {
      "image/png": "[encoded data removed]",
      "text/plain": [
       "<Figure size 432x288 with 1 Axes>"
      ]
     },
     "metadata": {
      "needs_background": "light"
     },
     "output_type": "display_data"
    }
   ],
   "source": [
    "dibuja_linea([demanda_data['nro_registro']], 'Grafico')"
   ]
  },
  {
   "cell_type": "code",
   "execution_count": 8,
   "metadata": {},
   "outputs": [
    {
     "data": {
      "image/png": "[encoded data removed]",
      "text/plain": [
       "<Figure size 432x288 with 1 Axes>"
      ]
     },
     "metadata": {
      "needs_background": "light"
     },
     "output_type": "display_data"
    }
   ],
   "source": [
    "dibuja_linea([demanda_data['nro_actualiza']], 'Grafico')"
   ]
  },
  {
   "cell_type": "code",
   "execution_count": 9,
   "metadata": {},
   "outputs": [
    {
     "data": {
      "image/png": "[encoded data removed]",
      "text/plain": [
       "<Figure size 432x288 with 1 Axes>"
      ]
     },
     "metadata": {
      "needs_background": "light"
     },
     "output_type": "display_data"
    }
   ],
   "source": [
    "dibuja_linea([demanda_data['nro_consulta']], 'Grafico')"
   ]
  },
  {
   "cell_type": "code",
   "execution_count": 10,
   "metadata": {},
   "outputs": [
    {
     "data": {
      "image/png": "[encoded data removed]",
      "text/plain": [
       "<Figure size 432x288 with 1 Axes>"
      ]
     },
     "metadata": {
      "needs_background": "light"
     },
     "output_type": "display_data"
    }
   ],
   "source": [
    "dibuja_linea([demanda_data['nro_elimina']], 'Grafico')"
   ]
  },
  {
   "cell_type": "code",
   "execution_count": 11,
   "metadata": {},
   "outputs": [
    {
     "data": {
      "text/html": [
       "<div>\n",
       "<style scoped>\n",
       "    .dataframe tbody tr th:only-of-type {\n",
       "        vertical-align: middle;\n",
       "    }\n",
       "\n",
       "    .dataframe tbody tr th {\n",
       "        vertical-align: top;\n",
       "    }\n",
       "\n",
       "    .dataframe thead th {\n",
       "        text-align: right;\n",
       "    }\n",
       "</style>\n",
       "<table border=\"1\" class=\"dataframe\">\n",
       "  <thead>\n",
       "    <tr style=\"text-align: right;\">\n",
       "      <th></th>\n",
       "      <th>Fecha</th>\n",
       "      <th>MemoriaUsadaJVM(bytes)</th>\n",
       "    </tr>\n",
       "  </thead>\n",
       "  <tbody>\n",
       "    <tr>\n",
       "      <th>0</th>\n",
       "      <td>2020-08-02 23:39:06</td>\n",
       "      <td>132114024</td>\n",
       "    </tr>\n",
       "    <tr>\n",
       "      <th>1</th>\n",
       "      <td>2020-08-02 23:39:16</td>\n",
       "      <td>158172264</td>\n",
       "    </tr>\n",
       "    <tr>\n",
       "      <th>2</th>\n",
       "      <td>2020-08-02 23:39:26</td>\n",
       "      <td>159529912</td>\n",
       "    </tr>\n",
       "    <tr>\n",
       "      <th>3</th>\n",
       "      <td>2020-08-02 23:39:36</td>\n",
       "      <td>160888616</td>\n",
       "    </tr>\n",
       "    <tr>\n",
       "      <th>4</th>\n",
       "      <td>2020-08-02 23:39:46</td>\n",
       "      <td>83339648</td>\n",
       "    </tr>\n",
       "  </tbody>\n",
       "</table>\n",
       "</div>"
      ],
      "text/plain": [
       "                 Fecha  MemoriaUsadaJVM(bytes)\n",
       "0  2020-08-02 23:39:06               132114024\n",
       "1  2020-08-02 23:39:16               158172264\n",
       "2  2020-08-02 23:39:26               159529912\n",
       "3  2020-08-02 23:39:36               160888616\n",
       "4  2020-08-02 23:39:46                83339648"
      ]
     },
     "execution_count": 11,
     "metadata": {},
     "output_type": "execute_result"
    }
   ],
   "source": [
    "monitoreo_memoria_data.head(5)"
   ]
  },
  {
   "cell_type": "code",
   "execution_count": 12,
   "metadata": {},
   "outputs": [
    {
     "data": {
      "text/html": [
       "<div>\n",
       "<style scoped>\n",
       "    .dataframe tbody tr th:only-of-type {\n",
       "        vertical-align: middle;\n",
       "    }\n",
       "\n",
       "    .dataframe tbody tr th {\n",
       "        vertical-align: top;\n",
       "    }\n",
       "\n",
       "    .dataframe thead th {\n",
       "        text-align: right;\n",
       "    }\n",
       "</style>\n",
       "<table border=\"1\" class=\"dataframe\">\n",
       "  <thead>\n",
       "    <tr style=\"text-align: right;\">\n",
       "      <th></th>\n",
       "      <th>MemoriaUsadaJVM(bytes)</th>\n",
       "    </tr>\n",
       "  </thead>\n",
       "  <tbody>\n",
       "    <tr>\n",
       "      <th>count</th>\n",
       "      <td>2.564000e+03</td>\n",
       "    </tr>\n",
       "    <tr>\n",
       "      <th>mean</th>\n",
       "      <td>1.189977e+08</td>\n",
       "    </tr>\n",
       "    <tr>\n",
       "      <th>std</th>\n",
       "      <td>4.321644e+07</td>\n",
       "    </tr>\n",
       "    <tr>\n",
       "      <th>min</th>\n",
       "      <td>5.556486e+07</td>\n",
       "    </tr>\n",
       "    <tr>\n",
       "      <th>25%</th>\n",
       "      <td>8.536673e+07</td>\n",
       "    </tr>\n",
       "    <tr>\n",
       "      <th>50%</th>\n",
       "      <td>1.061485e+08</td>\n",
       "    </tr>\n",
       "    <tr>\n",
       "      <th>75%</th>\n",
       "      <td>1.443281e+08</td>\n",
       "    </tr>\n",
       "    <tr>\n",
       "      <th>max</th>\n",
       "      <td>2.596699e+08</td>\n",
       "    </tr>\n",
       "  </tbody>\n",
       "</table>\n",
       "</div>"
      ],
      "text/plain": [
       "       MemoriaUsadaJVM(bytes)\n",
       "count            2.564000e+03\n",
       "mean             1.189977e+08\n",
       "std              4.321644e+07\n",
       "min              5.556486e+07\n",
       "25%              8.536673e+07\n",
       "50%              1.061485e+08\n",
       "75%              1.443281e+08\n",
       "max              2.596699e+08"
      ]
     },
     "execution_count": 12,
     "metadata": {},
     "output_type": "execute_result"
    }
   ],
   "source": [
    "monitoreo_memoria_data.describe()"
   ]
  },
  {
   "cell_type": "code",
   "execution_count": 13,
   "metadata": {},
   "outputs": [
    {
     "data": {
      "image/png": "[encoded data removed]",
      "text/plain": [
       "<Figure size 432x288 with 1 Axes>"
      ]
     },
     "metadata": {
      "needs_background": "light"
     },
     "output_type": "display_data"
    }
   ],
   "source": [
    "dibuja_linea([monitoreo_memoria_data['MemoriaUsadaJVM(bytes)']], 'Grafico')"
   ]
  },
  {
   "cell_type": "markdown",
   "metadata": {},
   "source": [
    "Ajustar datos del indice"
   ]
  },
  {
   "cell_type": "code",
   "execution_count": 14,
   "metadata": {},
   "outputs": [],
   "source": [
    "demanda_data['Fecha'] = demanda_data['Fecha'].str[:-3]\n",
    "monitoreo_memoria_data['Fecha'] = monitoreo_memoria_data['Fecha'].str[:-3]"
   ]
  },
  {
   "cell_type": "markdown",
   "metadata": {},
   "source": [
    "Agrupar datos del indice"
   ]
  },
  {
   "cell_type": "code",
   "execution_count": 15,
   "metadata": {},
   "outputs": [],
   "source": [
    "demanda_data = demanda_data.groupby(['Fecha']).agg({'nro_registro':sum,'nro_actualiza':sum,'nro_consulta':sum,'nro_elimina':sum})\n",
    "monitoreo_memoria_data = monitoreo_memoria_data.groupby(['Fecha']).agg({'MemoriaUsadaJVM(bytes)':max})"
   ]
  },
  {
   "cell_type": "markdown",
   "metadata": {},
   "source": [
    "Ordena datos por indice"
   ]
  },
  {
   "cell_type": "code",
   "execution_count": 16,
   "metadata": {},
   "outputs": [],
   "source": [
    "demanda_data = demanda_data.sort_values('Fecha')\n",
    "monitoreo_memoria_data = monitoreo_memoria_data.sort_values('Fecha')"
   ]
  },
  {
   "cell_type": "markdown",
   "metadata": {},
   "source": [
    "Se une la información por indices"
   ]
  },
  {
   "cell_type": "code",
   "execution_count": 17,
   "metadata": {},
   "outputs": [],
   "source": [
    "consolidado_data=demanda_data.join(monitoreo_memoria_data,how='inner')"
   ]
  },
  {
   "cell_type": "markdown",
   "metadata": {},
   "source": [
    "Procesamiento adicional de datos"
   ]
  },
  {
   "cell_type": "code",
   "execution_count": 18,
   "metadata": {},
   "outputs": [],
   "source": [
    "#Aquí puede agregar setencias adicionales de preprocesamiento de datos"
   ]
  },
  {
   "cell_type": "markdown",
   "metadata": {},
   "source": [
    "Se extran los valores de X y Y"
   ]
  },
  {
   "cell_type": "code",
   "execution_count": 19,
   "metadata": {},
   "outputs": [],
   "source": [
    "X=consolidado_data.loc[:,['nro_registro','nro_actualiza','nro_consulta','nro_elimina']]"
   ]
  },
  {
   "cell_type": "markdown",
   "metadata": {},
   "source": [
    "Se normalizan los valores de X entre 0 y 1"
   ]
  },
  {
   "cell_type": "code",
   "execution_count": 20,
   "metadata": {},
   "outputs": [
    {
     "name": "stdout",
     "output_type": "stream",
     "text": [
      "Se normalizó la columna nro_elimina dividiendo para 53.0\n"
     ]
    }
   ],
   "source": [
    "normalizar_por_mayor(X)"
   ]
  },
  {
   "cell_type": "markdown",
   "metadata": {},
   "source": [
    "## 4. Analisis de datos preparados"
   ]
  },
  {
   "cell_type": "code",
   "execution_count": 21,
   "metadata": {},
   "outputs": [
    {
     "data": {
      "text/html": [
       "<div>\n",
       "<style scoped>\n",
       "    .dataframe tbody tr th:only-of-type {\n",
       "        vertical-align: middle;\n",
       "    }\n",
       "\n",
       "    .dataframe tbody tr th {\n",
       "        vertical-align: top;\n",
       "    }\n",
       "\n",
       "    .dataframe thead th {\n",
       "        text-align: right;\n",
       "    }\n",
       "</style>\n",
       "<table border=\"1\" class=\"dataframe\">\n",
       "  <thead>\n",
       "    <tr style=\"text-align: right;\">\n",
       "      <th></th>\n",
       "      <th>nro_registro</th>\n",
       "      <th>nro_actualiza</th>\n",
       "      <th>nro_consulta</th>\n",
       "      <th>nro_elimina</th>\n",
       "    </tr>\n",
       "    <tr>\n",
       "      <th>Fecha</th>\n",
       "      <th></th>\n",
       "      <th></th>\n",
       "      <th></th>\n",
       "      <th></th>\n",
       "    </tr>\n",
       "  </thead>\n",
       "  <tbody>\n",
       "    <tr>\n",
       "      <th>2020-08-02 23:39</th>\n",
       "      <td>25</td>\n",
       "      <td>0</td>\n",
       "      <td>0</td>\n",
       "      <td>0</td>\n",
       "    </tr>\n",
       "    <tr>\n",
       "      <th>2020-08-02 23:40</th>\n",
       "      <td>30</td>\n",
       "      <td>15</td>\n",
       "      <td>30</td>\n",
       "      <td>35</td>\n",
       "    </tr>\n",
       "    <tr>\n",
       "      <th>2020-08-02 23:41</th>\n",
       "      <td>45</td>\n",
       "      <td>35</td>\n",
       "      <td>70</td>\n",
       "      <td>15</td>\n",
       "    </tr>\n",
       "    <tr>\n",
       "      <th>2020-08-02 23:42</th>\n",
       "      <td>62</td>\n",
       "      <td>46</td>\n",
       "      <td>84</td>\n",
       "      <td>35</td>\n",
       "    </tr>\n",
       "    <tr>\n",
       "      <th>2020-08-02 23:43</th>\n",
       "      <td>83</td>\n",
       "      <td>49</td>\n",
       "      <td>51</td>\n",
       "      <td>5</td>\n",
       "    </tr>\n",
       "  </tbody>\n",
       "</table>\n",
       "</div>"
      ],
      "text/plain": [
       "                  nro_registro  nro_actualiza  nro_consulta  nro_elimina\n",
       "Fecha                                                                   \n",
       "2020-08-02 23:39            25              0             0            0\n",
       "2020-08-02 23:40            30             15            30           35\n",
       "2020-08-02 23:41            45             35            70           15\n",
       "2020-08-02 23:42            62             46            84           35\n",
       "2020-08-02 23:43            83             49            51            5"
      ]
     },
     "execution_count": 21,
     "metadata": {},
     "output_type": "execute_result"
    }
   ],
   "source": [
    "demanda_data.head(5)"
   ]
  },
  {
   "cell_type": "code",
   "execution_count": 22,
   "metadata": {},
   "outputs": [
    {
     "data": {
      "text/html": [
       "<div>\n",
       "<style scoped>\n",
       "    .dataframe tbody tr th:only-of-type {\n",
       "        vertical-align: middle;\n",
       "    }\n",
       "\n",
       "    .dataframe tbody tr th {\n",
       "        vertical-align: top;\n",
       "    }\n",
       "\n",
       "    .dataframe thead th {\n",
       "        text-align: right;\n",
       "    }\n",
       "</style>\n",
       "<table border=\"1\" class=\"dataframe\">\n",
       "  <thead>\n",
       "    <tr style=\"text-align: right;\">\n",
       "      <th></th>\n",
       "      <th>nro_registro</th>\n",
       "      <th>nro_actualiza</th>\n",
       "      <th>nro_consulta</th>\n",
       "      <th>nro_elimina</th>\n",
       "    </tr>\n",
       "  </thead>\n",
       "  <tbody>\n",
       "    <tr>\n",
       "      <th>count</th>\n",
       "      <td>427.000000</td>\n",
       "      <td>427.000000</td>\n",
       "      <td>427.000000</td>\n",
       "      <td>427.000000</td>\n",
       "    </tr>\n",
       "    <tr>\n",
       "      <th>mean</th>\n",
       "      <td>135.807963</td>\n",
       "      <td>40.871194</td>\n",
       "      <td>49.819672</td>\n",
       "      <td>24.215457</td>\n",
       "    </tr>\n",
       "    <tr>\n",
       "      <th>std</th>\n",
       "      <td>69.973507</td>\n",
       "      <td>17.928910</td>\n",
       "      <td>20.206162</td>\n",
       "      <td>11.730561</td>\n",
       "    </tr>\n",
       "    <tr>\n",
       "      <th>min</th>\n",
       "      <td>0.000000</td>\n",
       "      <td>0.000000</td>\n",
       "      <td>0.000000</td>\n",
       "      <td>0.000000</td>\n",
       "    </tr>\n",
       "    <tr>\n",
       "      <th>25%</th>\n",
       "      <td>79.000000</td>\n",
       "      <td>27.000000</td>\n",
       "      <td>35.000000</td>\n",
       "      <td>15.000000</td>\n",
       "    </tr>\n",
       "    <tr>\n",
       "      <th>50%</th>\n",
       "      <td>136.000000</td>\n",
       "      <td>40.000000</td>\n",
       "      <td>50.000000</td>\n",
       "      <td>25.000000</td>\n",
       "    </tr>\n",
       "    <tr>\n",
       "      <th>75%</th>\n",
       "      <td>190.500000</td>\n",
       "      <td>54.000000</td>\n",
       "      <td>65.000000</td>\n",
       "      <td>31.000000</td>\n",
       "    </tr>\n",
       "    <tr>\n",
       "      <th>max</th>\n",
       "      <td>346.000000</td>\n",
       "      <td>95.000000</td>\n",
       "      <td>100.000000</td>\n",
       "      <td>53.000000</td>\n",
       "    </tr>\n",
       "  </tbody>\n",
       "</table>\n",
       "</div>"
      ],
      "text/plain": [
       "       nro_registro  nro_actualiza  nro_consulta  nro_elimina\n",
       "count    427.000000     427.000000    427.000000   427.000000\n",
       "mean     135.807963      40.871194     49.819672    24.215457\n",
       "std       69.973507      17.928910     20.206162    11.730561\n",
       "min        0.000000       0.000000      0.000000     0.000000\n",
       "25%       79.000000      27.000000     35.000000    15.000000\n",
       "50%      136.000000      40.000000     50.000000    25.000000\n",
       "75%      190.500000      54.000000     65.000000    31.000000\n",
       "max      346.000000      95.000000    100.000000    53.000000"
      ]
     },
     "execution_count": 22,
     "metadata": {},
     "output_type": "execute_result"
    }
   ],
   "source": [
    "demanda_data.describe()"
   ]
  },
  {
   "cell_type": "code",
   "execution_count": 23,
   "metadata": {},
   "outputs": [
    {
     "data": {
      "image/png": "[encoded data removed]",
      "text/plain": [
       "<Figure size 432x288 with 1 Axes>"
      ]
     },
     "metadata": {
      "needs_background": "light"
     },
     "output_type": "display_data"
    }
   ],
   "source": [
    "dibuja_linea([demanda_data['nro_registro']], 'Grafico')"
   ]
  },
  {
   "cell_type": "code",
   "execution_count": 24,
   "metadata": {},
   "outputs": [
    {
     "data": {
      "image/png": "[encoded data removed]",
      "text/plain": [
       "<Figure size 432x288 with 1 Axes>"
      ]
     },
     "metadata": {
      "needs_background": "light"
     },
     "output_type": "display_data"
    }
   ],
   "source": [
    "dibuja_linea([demanda_data['nro_actualiza']], 'Grafico')"
   ]
  },
  {
   "cell_type": "code",
   "execution_count": 25,
   "metadata": {},
   "outputs": [
    {
     "data": {
      "image/png": "[encoded data removed]",
      "text/plain": [
       "<Figure size 432x288 with 1 Axes>"
      ]
     },
     "metadata": {
      "needs_background": "light"
     },
     "output_type": "display_data"
    }
   ],
   "source": [
    "dibuja_linea([demanda_data['nro_consulta']], 'Grafico')"
   ]
  },
  {
   "cell_type": "code",
   "execution_count": 26,
   "metadata": {},
   "outputs": [
    {
     "data": {
      "image/png": "[encoded data removed]",
      "text/plain": [
       "<Figure size 432x288 with 1 Axes>"
      ]
     },
     "metadata": {
      "needs_background": "light"
     },
     "output_type": "display_data"
    }
   ],
   "source": [
    "dibuja_linea([demanda_data['nro_elimina']], 'Grafico')"
   ]
  },
  {
   "cell_type": "code",
   "execution_count": 27,
   "metadata": {},
   "outputs": [
    {
     "data": {
      "text/html": [
       "<div>\n",
       "<style scoped>\n",
       "    .dataframe tbody tr th:only-of-type {\n",
       "        vertical-align: middle;\n",
       "    }\n",
       "\n",
       "    .dataframe tbody tr th {\n",
       "        vertical-align: top;\n",
       "    }\n",
       "\n",
       "    .dataframe thead th {\n",
       "        text-align: right;\n",
       "    }\n",
       "</style>\n",
       "<table border=\"1\" class=\"dataframe\">\n",
       "  <thead>\n",
       "    <tr style=\"text-align: right;\">\n",
       "      <th></th>\n",
       "      <th>MemoriaUsadaJVM(bytes)</th>\n",
       "    </tr>\n",
       "    <tr>\n",
       "      <th>Fecha</th>\n",
       "      <th></th>\n",
       "    </tr>\n",
       "  </thead>\n",
       "  <tbody>\n",
       "    <tr>\n",
       "      <th>2020-08-02 23:39</th>\n",
       "      <td>160888616</td>\n",
       "    </tr>\n",
       "    <tr>\n",
       "      <th>2020-08-02 23:40</th>\n",
       "      <td>114742408</td>\n",
       "    </tr>\n",
       "    <tr>\n",
       "      <th>2020-08-02 23:41</th>\n",
       "      <td>151721552</td>\n",
       "    </tr>\n",
       "    <tr>\n",
       "      <th>2020-08-02 23:42</th>\n",
       "      <td>191081960</td>\n",
       "    </tr>\n",
       "    <tr>\n",
       "      <th>2020-08-02 23:43</th>\n",
       "      <td>112992720</td>\n",
       "    </tr>\n",
       "  </tbody>\n",
       "</table>\n",
       "</div>"
      ],
      "text/plain": [
       "                  MemoriaUsadaJVM(bytes)\n",
       "Fecha                                   \n",
       "2020-08-02 23:39               160888616\n",
       "2020-08-02 23:40               114742408\n",
       "2020-08-02 23:41               151721552\n",
       "2020-08-02 23:42               191081960\n",
       "2020-08-02 23:43               112992720"
      ]
     },
     "execution_count": 27,
     "metadata": {},
     "output_type": "execute_result"
    }
   ],
   "source": [
    "monitoreo_memoria_data.head(5)"
   ]
  },
  {
   "cell_type": "code",
   "execution_count": 28,
   "metadata": {},
   "outputs": [
    {
     "data": {
      "text/html": [
       "<div>\n",
       "<style scoped>\n",
       "    .dataframe tbody tr th:only-of-type {\n",
       "        vertical-align: middle;\n",
       "    }\n",
       "\n",
       "    .dataframe tbody tr th {\n",
       "        vertical-align: top;\n",
       "    }\n",
       "\n",
       "    .dataframe thead th {\n",
       "        text-align: right;\n",
       "    }\n",
       "</style>\n",
       "<table border=\"1\" class=\"dataframe\">\n",
       "  <thead>\n",
       "    <tr style=\"text-align: right;\">\n",
       "      <th></th>\n",
       "      <th>MemoriaUsadaJVM(bytes)</th>\n",
       "    </tr>\n",
       "  </thead>\n",
       "  <tbody>\n",
       "    <tr>\n",
       "      <th>count</th>\n",
       "      <td>4.280000e+02</td>\n",
       "    </tr>\n",
       "    <tr>\n",
       "      <th>mean</th>\n",
       "      <td>1.448713e+08</td>\n",
       "    </tr>\n",
       "    <tr>\n",
       "      <th>std</th>\n",
       "      <td>5.068683e+07</td>\n",
       "    </tr>\n",
       "    <tr>\n",
       "      <th>min</th>\n",
       "      <td>6.714889e+07</td>\n",
       "    </tr>\n",
       "    <tr>\n",
       "      <th>25%</th>\n",
       "      <td>1.015274e+08</td>\n",
       "    </tr>\n",
       "    <tr>\n",
       "      <th>50%</th>\n",
       "      <td>1.361456e+08</td>\n",
       "    </tr>\n",
       "    <tr>\n",
       "      <th>75%</th>\n",
       "      <td>1.889407e+08</td>\n",
       "    </tr>\n",
       "    <tr>\n",
       "      <th>max</th>\n",
       "      <td>2.596699e+08</td>\n",
       "    </tr>\n",
       "  </tbody>\n",
       "</table>\n",
       "</div>"
      ],
      "text/plain": [
       "       MemoriaUsadaJVM(bytes)\n",
       "count            4.280000e+02\n",
       "mean             1.448713e+08\n",
       "std              5.068683e+07\n",
       "min              6.714889e+07\n",
       "25%              1.015274e+08\n",
       "50%              1.361456e+08\n",
       "75%              1.889407e+08\n",
       "max              2.596699e+08"
      ]
     },
     "execution_count": 28,
     "metadata": {},
     "output_type": "execute_result"
    }
   ],
   "source": [
    "monitoreo_memoria_data.describe()"
   ]
  },
  {
   "cell_type": "code",
   "execution_count": 29,
   "metadata": {},
   "outputs": [
    {
     "data": {
      "image/png": "[encoded data removed]",
      "text/plain": [
       "<Figure size 432x288 with 1 Axes>"
      ]
     },
     "metadata": {
      "needs_background": "light"
     },
     "output_type": "display_data"
    }
   ],
   "source": [
    "dibuja_linea([monitoreo_memoria_data['MemoriaUsadaJVM(bytes)']], 'Grafico')"
   ]
  },
  {
   "cell_type": "code",
   "execution_count": 30,
   "metadata": {},
   "outputs": [
    {
     "data": {
      "text/html": [
       "<div>\n",
       "<style scoped>\n",
       "    .dataframe tbody tr th:only-of-type {\n",
       "        vertical-align: middle;\n",
       "    }\n",
       "\n",
       "    .dataframe tbody tr th {\n",
       "        vertical-align: top;\n",
       "    }\n",
       "\n",
       "    .dataframe thead th {\n",
       "        text-align: right;\n",
       "    }\n",
       "</style>\n",
       "<table border=\"1\" class=\"dataframe\">\n",
       "  <thead>\n",
       "    <tr style=\"text-align: right;\">\n",
       "      <th></th>\n",
       "      <th>nro_registro</th>\n",
       "      <th>nro_actualiza</th>\n",
       "      <th>nro_consulta</th>\n",
       "      <th>nro_elimina</th>\n",
       "      <th>MemoriaUsadaJVM(bytes)</th>\n",
       "    </tr>\n",
       "    <tr>\n",
       "      <th>Fecha</th>\n",
       "      <th></th>\n",
       "      <th></th>\n",
       "      <th></th>\n",
       "      <th></th>\n",
       "      <th></th>\n",
       "    </tr>\n",
       "  </thead>\n",
       "  <tbody>\n",
       "    <tr>\n",
       "      <th>2020-08-02 23:39</th>\n",
       "      <td>25</td>\n",
       "      <td>0</td>\n",
       "      <td>0</td>\n",
       "      <td>0</td>\n",
       "      <td>160888616</td>\n",
       "    </tr>\n",
       "    <tr>\n",
       "      <th>2020-08-02 23:40</th>\n",
       "      <td>30</td>\n",
       "      <td>15</td>\n",
       "      <td>30</td>\n",
       "      <td>35</td>\n",
       "      <td>114742408</td>\n",
       "    </tr>\n",
       "    <tr>\n",
       "      <th>2020-08-02 23:41</th>\n",
       "      <td>45</td>\n",
       "      <td>35</td>\n",
       "      <td>70</td>\n",
       "      <td>15</td>\n",
       "      <td>151721552</td>\n",
       "    </tr>\n",
       "    <tr>\n",
       "      <th>2020-08-02 23:42</th>\n",
       "      <td>62</td>\n",
       "      <td>46</td>\n",
       "      <td>84</td>\n",
       "      <td>35</td>\n",
       "      <td>191081960</td>\n",
       "    </tr>\n",
       "    <tr>\n",
       "      <th>2020-08-02 23:43</th>\n",
       "      <td>83</td>\n",
       "      <td>49</td>\n",
       "      <td>51</td>\n",
       "      <td>5</td>\n",
       "      <td>112992720</td>\n",
       "    </tr>\n",
       "  </tbody>\n",
       "</table>\n",
       "</div>"
      ],
      "text/plain": [
       "                  nro_registro  nro_actualiza  nro_consulta  nro_elimina  \\\n",
       "Fecha                                                                      \n",
       "2020-08-02 23:39            25              0             0            0   \n",
       "2020-08-02 23:40            30             15            30           35   \n",
       "2020-08-02 23:41            45             35            70           15   \n",
       "2020-08-02 23:42            62             46            84           35   \n",
       "2020-08-02 23:43            83             49            51            5   \n",
       "\n",
       "                  MemoriaUsadaJVM(bytes)  \n",
       "Fecha                                     \n",
       "2020-08-02 23:39               160888616  \n",
       "2020-08-02 23:40               114742408  \n",
       "2020-08-02 23:41               151721552  \n",
       "2020-08-02 23:42               191081960  \n",
       "2020-08-02 23:43               112992720  "
      ]
     },
     "execution_count": 30,
     "metadata": {},
     "output_type": "execute_result"
    }
   ],
   "source": [
    "consolidado_data.head(5)"
   ]
  },
  {
   "cell_type": "code",
   "execution_count": 31,
   "metadata": {},
   "outputs": [
    {
     "data": {
      "text/html": [
       "<div>\n",
       "<style scoped>\n",
       "    .dataframe tbody tr th:only-of-type {\n",
       "        vertical-align: middle;\n",
       "    }\n",
       "\n",
       "    .dataframe tbody tr th {\n",
       "        vertical-align: top;\n",
       "    }\n",
       "\n",
       "    .dataframe thead th {\n",
       "        text-align: right;\n",
       "    }\n",
       "</style>\n",
       "<table border=\"1\" class=\"dataframe\">\n",
       "  <thead>\n",
       "    <tr style=\"text-align: right;\">\n",
       "      <th></th>\n",
       "      <th>nro_registro</th>\n",
       "      <th>nro_actualiza</th>\n",
       "      <th>nro_consulta</th>\n",
       "      <th>nro_elimina</th>\n",
       "      <th>MemoriaUsadaJVM(bytes)</th>\n",
       "    </tr>\n",
       "  </thead>\n",
       "  <tbody>\n",
       "    <tr>\n",
       "      <th>count</th>\n",
       "      <td>427.000000</td>\n",
       "      <td>427.000000</td>\n",
       "      <td>427.000000</td>\n",
       "      <td>427.000000</td>\n",
       "      <td>4.270000e+02</td>\n",
       "    </tr>\n",
       "    <tr>\n",
       "      <th>mean</th>\n",
       "      <td>135.807963</td>\n",
       "      <td>40.871194</td>\n",
       "      <td>49.819672</td>\n",
       "      <td>24.215457</td>\n",
       "      <td>1.448857e+08</td>\n",
       "    </tr>\n",
       "    <tr>\n",
       "      <th>std</th>\n",
       "      <td>69.973507</td>\n",
       "      <td>17.928910</td>\n",
       "      <td>20.206162</td>\n",
       "      <td>11.730561</td>\n",
       "      <td>5.074540e+07</td>\n",
       "    </tr>\n",
       "    <tr>\n",
       "      <th>min</th>\n",
       "      <td>0.000000</td>\n",
       "      <td>0.000000</td>\n",
       "      <td>0.000000</td>\n",
       "      <td>0.000000</td>\n",
       "      <td>6.714889e+07</td>\n",
       "    </tr>\n",
       "    <tr>\n",
       "      <th>25%</th>\n",
       "      <td>79.000000</td>\n",
       "      <td>27.000000</td>\n",
       "      <td>35.000000</td>\n",
       "      <td>15.000000</td>\n",
       "      <td>1.015208e+08</td>\n",
       "    </tr>\n",
       "    <tr>\n",
       "      <th>50%</th>\n",
       "      <td>136.000000</td>\n",
       "      <td>40.000000</td>\n",
       "      <td>50.000000</td>\n",
       "      <td>25.000000</td>\n",
       "      <td>1.360123e+08</td>\n",
       "    </tr>\n",
       "    <tr>\n",
       "      <th>75%</th>\n",
       "      <td>190.500000</td>\n",
       "      <td>54.000000</td>\n",
       "      <td>65.000000</td>\n",
       "      <td>31.000000</td>\n",
       "      <td>1.889717e+08</td>\n",
       "    </tr>\n",
       "    <tr>\n",
       "      <th>max</th>\n",
       "      <td>346.000000</td>\n",
       "      <td>95.000000</td>\n",
       "      <td>100.000000</td>\n",
       "      <td>53.000000</td>\n",
       "      <td>2.596699e+08</td>\n",
       "    </tr>\n",
       "  </tbody>\n",
       "</table>\n",
       "</div>"
      ],
      "text/plain": [
       "       nro_registro  nro_actualiza  nro_consulta  nro_elimina  \\\n",
       "count    427.000000     427.000000    427.000000   427.000000   \n",
       "mean     135.807963      40.871194     49.819672    24.215457   \n",
       "std       69.973507      17.928910     20.206162    11.730561   \n",
       "min        0.000000       0.000000      0.000000     0.000000   \n",
       "25%       79.000000      27.000000     35.000000    15.000000   \n",
       "50%      136.000000      40.000000     50.000000    25.000000   \n",
       "75%      190.500000      54.000000     65.000000    31.000000   \n",
       "max      346.000000      95.000000    100.000000    53.000000   \n",
       "\n",
       "       MemoriaUsadaJVM(bytes)  \n",
       "count            4.270000e+02  \n",
       "mean             1.448857e+08  \n",
       "std              5.074540e+07  \n",
       "min              6.714889e+07  \n",
       "25%              1.015208e+08  \n",
       "50%              1.360123e+08  \n",
       "75%              1.889717e+08  \n",
       "max              2.596699e+08  "
      ]
     },
     "execution_count": 31,
     "metadata": {},
     "output_type": "execute_result"
    }
   ],
   "source": [
    "consolidado_data.describe()"
   ]
  },
  {
   "cell_type": "markdown",
   "metadata": {},
   "source": [
    "## 5. Modelos de predicción"
   ]
  },
  {
   "cell_type": "markdown",
   "metadata": {},
   "source": [
    "### 5.1 Metrica: MemoriaUsadaJVM(bytes)"
   ]
  },
  {
   "cell_type": "code",
   "execution_count": 32,
   "metadata": {},
   "outputs": [],
   "source": [
    "y = consolidado_data['MemoriaUsadaJVM(bytes)']\n",
    "#se sugiere descomentar la siguiente linea para convertir bytes a MB\n",
    "#mejora la capacidad de predicción con números más pequeños\n",
    "y=y/(1024*1024)"
   ]
  },
  {
   "cell_type": "markdown",
   "metadata": {},
   "source": [
    "Se separa datos de entrenamiento y pruebas"
   ]
  },
  {
   "cell_type": "code",
   "execution_count": 33,
   "metadata": {},
   "outputs": [],
   "source": [
    "X_train, X_test, y_train, y_test = train_test_split(X, y, test_size = 0.20, random_state = 123)"
   ]
  },
  {
   "cell_type": "code",
   "execution_count": 34,
   "metadata": {},
   "outputs": [],
   "source": [
    "resultados=list()"
   ]
  },
  {
   "cell_type": "code",
   "execution_count": 35,
   "metadata": {},
   "outputs": [],
   "source": [
    "algoritmos=list()"
   ]
  },
  {
   "cell_type": "markdown",
   "metadata": {},
   "source": [
    "**Modelo de regresión lineal**"
   ]
  },
  {
   "cell_type": "code",
   "execution_count": 36,
   "metadata": {},
   "outputs": [],
   "source": [
    "lReg = LinearRegression().fit(X_train, y_train)\n",
    "y_pred=lReg.predict(X_test)\n",
    "resultados.append(y_pred)\n",
    "algoritmos.append('Regresion Lineal')"
   ]
  },
  {
   "cell_type": "markdown",
   "metadata": {},
   "source": [
    "**Modelo Random Forest**"
   ]
  },
  {
   "cell_type": "code",
   "execution_count": 37,
   "metadata": {},
   "outputs": [
    {
     "data": {
      "image/png": "[encoded data removed]",
      "text/plain": [
       "<Figure size 432x288 with 1 Axes>"
      ]
     },
     "metadata": {
      "needs_background": "light"
     },
     "output_type": "display_data"
    }
   ],
   "source": [
    "rFor = RandomForestRegressor(criterion='mse', max_depth=2,random_state=1234,n_estimators=50)\n",
    "rFor = rFor.fit(X_train,y_train)\n",
    "y_pred = rFor.predict(X_test)\n",
    "resultados.append(y_pred)\n",
    "algoritmos.append('Random Forest')\n",
    "\n",
    "evolucion_random_forest(15, 50, X_train, y_train, X_test, y_test)"
   ]
  },
  {
   "cell_type": "markdown",
   "metadata": {},
   "source": [
    "**Modelo Support Vector Machine (Regression)**"
   ]
  },
  {
   "cell_type": "code",
   "execution_count": 38,
   "metadata": {},
   "outputs": [],
   "source": [
    "regr = SVR(kernel='rbf', C=0.8, gamma='scale', epsilon=0.1)\n",
    "regr.fit(X, y)\n",
    "y_pred=regr.predict(X_test)\n",
    "resultados.append(y_pred)\n",
    "algoritmos.append('Maquinas de Vector de Soporte')"
   ]
  },
  {
   "cell_type": "markdown",
   "metadata": {},
   "source": [
    "**Modelo Red Neuronal**"
   ]
  },
  {
   "cell_type": "code",
   "execution_count": 39,
   "metadata": {},
   "outputs": [
    {
     "name": "stdout",
     "output_type": "stream",
     "text": [
      "Model: \"sequential\"\n",
      "_________________________________________________________________\n",
      "Layer (type)                 Output Shape              Param #   \n",
      "=================================================================\n",
      "dense (Dense)                (None, 12)                60        \n",
      "_________________________________________________________________\n",
      "dense_1 (Dense)              (None, 12)                156       \n",
      "_________________________________________________________________\n",
      "dense_2 (Dense)              (None, 1)                 13        \n",
      "=================================================================\n",
      "Total params: 229\n",
      "Trainable params: 229\n",
      "Non-trainable params: 0\n",
      "_________________________________________________________________\n",
      "Epoch 1/20\n",
      "46/46 [==============================] - 1s 15ms/step - loss: 21143.9785 - mse: 21143.9785 - val_loss: 22027.4941 - val_mse: 22027.4941\n",
      "Epoch 2/20\n",
      "46/46 [==============================] - 0s 4ms/step - loss: 20988.9277 - mse: 20988.9277 - val_loss: 21804.1875 - val_mse: 21804.1875\n",
      "Epoch 3/20\n",
      "46/46 [==============================] - 0s 4ms/step - loss: 20668.5000 - mse: 20668.5000 - val_loss: 21336.5215 - val_mse: 21336.5215\n",
      "Epoch 4/20\n",
      "46/46 [==============================] - 0s 4ms/step - loss: 20022.2207 - mse: 20022.2207 - val_loss: 20378.2520 - val_mse: 20378.2520\n",
      "Epoch 5/20\n",
      "46/46 [==============================] - 0s 4ms/step - loss: 18751.7148 - mse: 18751.7148 - val_loss: 18637.4590 - val_mse: 18637.4590\n",
      "Epoch 6/20\n",
      "46/46 [==============================] - 0s 4ms/step - loss: 16670.2207 - mse: 16670.2207 - val_loss: 16113.5146 - val_mse: 16113.5146\n",
      "Epoch 7/20\n",
      "46/46 [==============================] - 0s 4ms/step - loss: 13924.5859 - mse: 13924.5859 - val_loss: 12941.6162 - val_mse: 12941.6162\n",
      "Epoch 8/20\n",
      "46/46 [==============================] - 0s 4ms/step - loss: 10693.7324 - mse: 10693.7324 - val_loss: 9631.7207 - val_mse: 9631.7207\n",
      "Epoch 9/20\n",
      "46/46 [==============================] - 0s 4ms/step - loss: 7624.5645 - mse: 7624.5645 - val_loss: 6726.3267 - val_mse: 6726.3267\n",
      "Epoch 10/20\n",
      "46/46 [==============================] - 0s 4ms/step - loss: 5218.9458 - mse: 5218.9458 - val_loss: 4766.6738 - val_mse: 4766.6738\n",
      "Epoch 11/20\n",
      "46/46 [==============================] - 0s 4ms/step - loss: 3741.8396 - mse: 3741.8396 - val_loss: 3738.8420 - val_mse: 3738.8420\n",
      "Epoch 12/20\n",
      "46/46 [==============================] - 0s 4ms/step - loss: 3081.1560 - mse: 3081.1558 - val_loss: 3366.5427 - val_mse: 3366.5430\n",
      "Epoch 13/20\n",
      "46/46 [==============================] - 0s 4ms/step - loss: 2848.7129 - mse: 2848.7129 - val_loss: 3261.1169 - val_mse: 3261.1169\n",
      "Epoch 14/20\n",
      "46/46 [==============================] - 0s 4ms/step - loss: 2793.8093 - mse: 2793.8093 - val_loss: 3237.2156 - val_mse: 3237.2156\n",
      "Epoch 15/20\n",
      "46/46 [==============================] - 0s 4ms/step - loss: 2779.8713 - mse: 2779.8713 - val_loss: 3230.8994 - val_mse: 3230.8994\n",
      "Epoch 16/20\n",
      "46/46 [==============================] - 0s 4ms/step - loss: 2775.1206 - mse: 2775.1206 - val_loss: 3223.6621 - val_mse: 3223.6621\n",
      "Epoch 17/20\n",
      "46/46 [==============================] - 0s 4ms/step - loss: 2767.4905 - mse: 2767.4905 - val_loss: 3219.6985 - val_mse: 3219.6987\n",
      "Epoch 18/20\n",
      "46/46 [==============================] - 0s 4ms/step - loss: 2769.1714 - mse: 2769.1714 - val_loss: 3215.2454 - val_mse: 3215.2454\n",
      "Epoch 19/20\n",
      "46/46 [==============================] - 0s 4ms/step - loss: 2753.6831 - mse: 2753.6831 - val_loss: 3205.9875 - val_mse: 3205.9875\n",
      "Epoch 20/20\n",
      "46/46 [==============================] - 0s 4ms/step - loss: 2755.3691 - mse: 2755.3691 - val_loss: 3197.7544 - val_mse: 3197.7544\n"
     ]
    },
    {
     "data": {
      "image/png": "[encoded data removed]",
      "text/plain": [
       "<Figure size 432x288 with 1 Axes>"
      ]
     },
     "metadata": {
      "needs_background": "light"
     },
     "output_type": "display_data"
    }
   ],
   "source": [
    "modelo = Sequential()\n",
    "modelo.add(Dense(12, kernel_initializer='glorot_uniform', activation='relu', input_shape=(4,)))\n",
    "modelo.add(Dense(12, kernel_initializer='glorot_uniform', activation='relu'))\n",
    "modelo.add(Dense(1))\n",
    "\n",
    "modelo.compile(loss='mse', optimizer=Adam(), metrics=['mse'])\n",
    "modelo.summary()\n",
    "historial=modelo.fit(X_train, y_train, epochs=20, batch_size=6, verbose=1, validation_split=0.2)\n",
    "\n",
    "y_pred=modelo.predict(X_test)\n",
    "resultados.append(y_pred)\n",
    "algoritmos.append('Red Neuronal')\n",
    "\n",
    "dibuja_linea([historial.history['mse'],historial.history['val_mse']], 'Red Neuronal - MSE por época', etiqueta_x='época', etiqueta_y='Error MSE', leyendas=['mse', 'val_mse'])"
   ]
  },
  {
   "cell_type": "code",
   "execution_count": 40,
   "metadata": {},
   "outputs": [
    {
     "data": {
      "text/html": [
       "<div>\n",
       "<style scoped>\n",
       "    .dataframe tbody tr th:only-of-type {\n",
       "        vertical-align: middle;\n",
       "    }\n",
       "\n",
       "    .dataframe tbody tr th {\n",
       "        vertical-align: top;\n",
       "    }\n",
       "\n",
       "    .dataframe thead th {\n",
       "        text-align: right;\n",
       "    }\n",
       "</style>\n",
       "<table border=\"1\" class=\"dataframe\">\n",
       "  <thead>\n",
       "    <tr style=\"text-align: right;\">\n",
       "      <th></th>\n",
       "      <th>Regresion Lineal</th>\n",
       "      <th>Random Forest</th>\n",
       "      <th>Maquinas de Vector de Soporte</th>\n",
       "      <th>Red Neuronal</th>\n",
       "    </tr>\n",
       "    <tr>\n",
       "      <th>metrica</th>\n",
       "      <th></th>\n",
       "      <th></th>\n",
       "      <th></th>\n",
       "      <th></th>\n",
       "    </tr>\n",
       "  </thead>\n",
       "  <tbody>\n",
       "    <tr>\n",
       "      <th>Error Cuadratico Medio (MSE)</th>\n",
       "      <td>1888.393406</td>\n",
       "      <td>1851.722537</td>\n",
       "      <td>1976.689308</td>\n",
       "      <td>2339.622119</td>\n",
       "    </tr>\n",
       "    <tr>\n",
       "      <th>Raiz MSE</th>\n",
       "      <td>43.455649</td>\n",
       "      <td>43.031646</td>\n",
       "      <td>44.459974</td>\n",
       "      <td>48.369640</td>\n",
       "    </tr>\n",
       "    <tr>\n",
       "      <th>Error Absoluto Medio (MAE)</th>\n",
       "      <td>36.597480</td>\n",
       "      <td>36.171572</td>\n",
       "      <td>35.853317</td>\n",
       "      <td>39.309703</td>\n",
       "    </tr>\n",
       "  </tbody>\n",
       "</table>\n",
       "</div>"
      ],
      "text/plain": [
       "                              Regresion Lineal  Random Forest  \\\n",
       "metrica                                                         \n",
       "Error Cuadratico Medio (MSE)       1888.393406    1851.722537   \n",
       "Raiz MSE                             43.455649      43.031646   \n",
       "Error Absoluto Medio (MAE)           36.597480      36.171572   \n",
       "\n",
       "                              Maquinas de Vector de Soporte  Red Neuronal  \n",
       "metrica                                                                    \n",
       "Error Cuadratico Medio (MSE)                    1976.689308   2339.622119  \n",
       "Raiz MSE                                          44.459974     48.369640  \n",
       "Error Absoluto Medio (MAE)                        35.853317     39.309703  "
      ]
     },
     "metadata": {},
     "output_type": "display_data"
    }
   ],
   "source": [
    "df=evalua(y_test, resultados, algoritmos)\n",
    "display(df)"
   ]
  }
 ],
 "metadata": {
  "kernelspec": {
   "display_name": "Python 3",
   "language": "python",
   "name": "python3"
  },
  "language_info": {
   "codemirror_mode": {
    "name": "ipython",
    "version": 3
   },
   "file_extension": ".py",
   "mimetype": "text/x-python",
   "name": "python",
   "nbconvert_exporter": "python",
   "pygments_lexer": "ipython3",
   "version": "3.8.5"
  }
 },
 "nbformat": 4,
 "nbformat_minor": 4
}
